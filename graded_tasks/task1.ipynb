{
 "cells": [
  {
   "cell_type": "markdown",
   "id": "65db83d0-92a8-4d37-9ec8-89e601ec938e",
   "metadata": {},
   "source": [
    "Apply an edge detection algorithm to detect the road edges in the image road.jpg. Fine-tune the thresholds to exclusively detect the road edges while minimizing detection of other features in the image. Use gray colormap to display."
   ]
  },
  {
   "cell_type": "code",
   "execution_count": null,
   "id": "9003a540-58d6-4367-b795-8301213ea674",
   "metadata": {},
   "outputs": [],
   "source": [
    "image = cv.imread(\"./road.jpg\", cv.IMREAD_GRAYSCALE)\n",
    "edges = cv.Canny(image, 400, 900)\n",
    "plt.imshow(edges, cmap=\"gray\")"
   ]
  }
 ],
 "metadata": {
  "kernelspec": {
   "display_name": "Python 3 (ipykernel)",
   "language": "python",
   "name": "python3"
  },
  "language_info": {
   "codemirror_mode": {
    "name": "ipython",
    "version": 3
   },
   "file_extension": ".py",
   "mimetype": "text/x-python",
   "name": "python",
   "nbconvert_exporter": "python",
   "pygments_lexer": "ipython3",
   "version": "3.12.4"
  }
 },
 "nbformat": 4,
 "nbformat_minor": 5
}
