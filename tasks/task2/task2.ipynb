{
 "cells": [
  {
   "cell_type": "code",
   "execution_count": 2,
   "id": "2aa35baa-ecd4-4995-b6f3-a2abad51938c",
   "metadata": {},
   "outputs": [],
   "source": [
    "import cv2\n",
    "from matplotlib import pyplot as plt"
   ]
  },
  {
   "cell_type": "code",
   "execution_count": 76,
   "id": "2ae8ef68-d9c1-4469-82c8-c6e8a292629a",
   "metadata": {},
   "outputs": [],
   "source": [
    "img = cv2.imread('./cartoon1.pgm', cv2.IMREAD_GRAYSCALE)\n",
    "\n",
    "# blur the image with sigma, k*sigma, k^2*sigma, k^3*sigma, k^4*sima\n",
    "# and show the five images"
   ]
  },
  {
   "cell_type": "code",
   "execution_count": 79,
   "id": "ec8f347c-7fae-4054-9a7c-125a7ac7514d",
   "metadata": {},
   "outputs": [],
   "source": [
    "# compute the Different of gaussian and plot 4 DoGs\n",
    "DoGs = []"
   ]
  },
  {
   "cell_type": "code",
   "execution_count": 77,
   "id": "327a5135-2926-40f2-a117-0bdeeb1bd83b",
   "metadata": {},
   "outputs": [],
   "source": [
    "# Compute the next octave and show the result\n"
   ]
  },
  {
   "cell_type": "code",
   "execution_count": 78,
   "id": "24cd07b2-e692-4673-80e1-f5f9b6206b13",
   "metadata": {},
   "outputs": [],
   "source": [
    "# Now use SIFT and show keypoints\n",
    "image = cv2.imread('./cartoon1.pgm', cv2.IMREAD_GRAYSCALE)\n"
   ]
  },
  {
   "cell_type": "code",
   "execution_count": null,
   "id": "44ea2bb4-01bd-4792-8c1f-119259d2816f",
   "metadata": {},
   "outputs": [],
   "source": []
  }
 ],
 "metadata": {
  "kernelspec": {
   "display_name": "Python 3 (ipykernel)",
   "language": "python",
   "name": "python3"
  },
  "language_info": {
   "codemirror_mode": {
    "name": "ipython",
    "version": 3
   },
   "file_extension": ".py",
   "mimetype": "text/x-python",
   "name": "python",
   "nbconvert_exporter": "python",
   "pygments_lexer": "ipython3",
   "version": "3.10.10"
  }
 },
 "nbformat": 4,
 "nbformat_minor": 5
}
